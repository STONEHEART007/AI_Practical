{
  "nbformat": 4,
  "nbformat_minor": 0,
  "metadata": {
    "colab": {
      "name": "Naive bayes.ipynb",
      "provenance": [],
      "authorship_tag": "ABX9TyNMlq3mx4r1hqOGhHQZl9UU",
      "include_colab_link": true
    },
    "kernelspec": {
      "name": "python3",
      "display_name": "Python 3"
    }
  },
  "cells": [
    {
      "cell_type": "markdown",
      "metadata": {
        "id": "view-in-github",
        "colab_type": "text"
      },
      "source": [
        "<a href=\"https://colab.research.google.com/github/STONEHEART007/AI_Practical/blob/main/Naive_bayes.ipynb\" target=\"_parent\"><img src=\"https://colab.research.google.com/assets/colab-badge.svg\" alt=\"Open In Colab\"/></a>"
      ]
    },
    {
      "cell_type": "code",
      "metadata": {
        "id": "oWc1A8Ix2HJi"
      },
      "source": [
        "# Defining Dataset\r\n",
        "# Assigning features and label variables\r\n",
        "weather=['Sunny','Sunny','Overcast','Rainy','Rainy','Rainy','Overcast','Sunny','Sunny',\r\n",
        "'Rainy','Sunny','Overcast','Overcast','Rainy']\r\n",
        "temp=['Hot','Hot','Hot','Mild','Cool','Cool','Cool','Mild','Cool','Mild','Mild','Mild','Hot','Mild']\r\n",
        "\r\n",
        "play=['No','No','Yes','Yes','Yes','No','Yes','No','Yes','Yes','Yes','Yes','Yes','No']"
      ],
      "execution_count": 15,
      "outputs": []
    },
    {
      "cell_type": "code",
      "metadata": {
        "colab": {
          "base_uri": "https://localhost:8080/"
        },
        "id": "hL09_8PC2aS9",
        "outputId": "be681796-c874-4f16-c7d9-61516fe6512a"
      },
      "source": [
        "# Encoding Features\r\n",
        "# Import LabelEncoder\r\n",
        "from sklearn import preprocessing\r\n",
        "#creating labelEncoder\r\n",
        "le = preprocessing.LabelEncoder()\r\n",
        "# Converting string labels into numbers.\r\n",
        "weather_encoded=le.fit_transform(weather)\r\n",
        "print (weather_encoded)\r\n"
      ],
      "execution_count": 16,
      "outputs": [
        {
          "output_type": "stream",
          "text": [
            "[2 2 0 1 1 1 0 2 2 1 2 0 0 1]\n"
          ],
          "name": "stdout"
        }
      ]
    },
    {
      "cell_type": "code",
      "metadata": {
        "colab": {
          "base_uri": "https://localhost:8080/"
        },
        "id": "1mNFyv_z2f1a",
        "outputId": "e02c5d87-cee5-40ca-96ab-7a67b25cfa18"
      },
      "source": [
        "# Converting string labels into numbers\r\n",
        "temp_encoded= le.fit_transform(temp)\r\n",
        "label=le.fit_transform(play)\r\n",
        "print (\"Temp:\",temp_encoded)\r\n",
        "print (\"Play:\",label)"
      ],
      "execution_count": 17,
      "outputs": [
        {
          "output_type": "stream",
          "text": [
            "Temp: [1 1 1 2 0 0 0 2 0 2 2 2 1 2]\n",
            "Play: [0 0 1 1 1 0 1 0 1 1 1 1 1 0]\n"
          ],
          "name": "stdout"
        }
      ]
    },
    {
      "cell_type": "code",
      "metadata": {
        "colab": {
          "base_uri": "https://localhost:8080/"
        },
        "id": "tSzjM6uT2lRc",
        "outputId": "24dfa677-b6ca-4dc3-94ab-8ce6dc34ce23"
      },
      "source": [
        "#Combinig weather and temp into single listof tuples\r\n",
        "features=list(zip(weather_encoded,temp_encoded))\r\n",
        "print (features)"
      ],
      "execution_count": 18,
      "outputs": [
        {
          "output_type": "stream",
          "text": [
            "[(2, 1), (2, 1), (0, 1), (1, 2), (1, 0), (1, 0), (0, 0), (2, 2), (2, 0), (1, 2), (2, 2), (0, 2), (0, 1), (1, 2)]\n"
          ],
          "name": "stdout"
        }
      ]
    },
    {
      "cell_type": "code",
      "metadata": {
        "id": "WvkCdmmM2vX-"
      },
      "source": [
        "#Import Gaussian Naive Bayes model\r\n",
        "from sklearn.naive_bayes import GaussianNB"
      ],
      "execution_count": 19,
      "outputs": []
    },
    {
      "cell_type": "code",
      "metadata": {
        "id": "66zstleQ3L6T"
      },
      "source": [
        "#Create a Gaussian Classifier\r\n",
        "model = GaussianNB()"
      ],
      "execution_count": 21,
      "outputs": []
    },
    {
      "cell_type": "code",
      "metadata": {
        "colab": {
          "base_uri": "https://localhost:8080/"
        },
        "id": "iGxI5uD83Z63",
        "outputId": "585ad288-8430-4e15-aa4f-6e19ca7b2b98"
      },
      "source": [
        "model.fit(features,label)\r\n"
      ],
      "execution_count": 22,
      "outputs": [
        {
          "output_type": "execute_result",
          "data": {
            "text/plain": [
              "GaussianNB(priors=None, var_smoothing=1e-09)"
            ]
          },
          "metadata": {
            "tags": []
          },
          "execution_count": 22
        }
      ]
    },
    {
      "cell_type": "code",
      "metadata": {
        "colab": {
          "base_uri": "https://localhost:8080/"
        },
        "id": "KqMb4bP632Fs",
        "outputId": "d6f1cc2a-41ee-4323-9408-2936da387ab3"
      },
      "source": [
        "predicted= model.predict([[0,2]]) # 0:Overcast, 2:Mild\r\n",
        "print (\"Predicted Value:\", predicted)"
      ],
      "execution_count": 24,
      "outputs": [
        {
          "output_type": "stream",
          "text": [
            "Predicted Value: [1]\n"
          ],
          "name": "stdout"
        }
      ]
    }
  ]
}